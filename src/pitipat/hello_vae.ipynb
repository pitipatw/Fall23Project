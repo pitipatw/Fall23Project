{
  "cells": [
    {
      "cell_type": "markdown",
      "metadata": {},
      "source": [
        "## -1. To Do List\n",
        "Dataloade\n",
        "    What is its structure look like? can we input (x, 64,64) np.array for this? "
      ]
    },
    {
      "cell_type": "markdown",
      "id": "CL8L1hEaIONF",
      "metadata": {
        "id": "CL8L1hEaIONF"
      },
      "source": [
        "# 0. Imports and setup 🚧"
      ]
    },
    {
      "cell_type": "code",
      "execution_count": 118,
      "id": "1be82345-c4fe-41f9-821f-394ddd21cef8",
      "metadata": {
        "id": "1be82345-c4fe-41f9-821f-394ddd21cef8"
      },
      "outputs": [],
      "source": [
        "import numpy as np\n",
        "import torch\n",
        "import torch.nn as nn\n",
        "import torch.nn.functional as F\n",
        "import torchvision\n",
        "import matplotlib\n",
        "import matplotlib.pyplot as plt\n",
        "from torchsummary import summary\n",
        "from tqdm.notebook import tqdm\n",
        "from datetime import datetime\n",
        "import scipy.stats"
      ]
    },
    {
      "cell_type": "markdown",
      "metadata": {},
      "source": [
        "## 0.1 Test torch 🔋"
      ]
    },
    {
      "cell_type": "code",
      "execution_count": 119,
      "metadata": {},
      "outputs": [
        {
          "name": "stdout",
          "output_type": "stream",
          "text": [
            "tensor([[0.7906, 0.9628, 0.0203],\n",
            "        [0.6595, 0.2802, 0.7488],\n",
            "        [0.1499, 0.2906, 0.0933],\n",
            "        [0.7502, 0.5772, 0.3491],\n",
            "        [0.8525, 0.0321, 0.5945]])\n"
          ]
        }
      ],
      "source": [
        "import torch\n",
        "x = torch.rand(5, 3)\n",
        "print(x)"
      ]
    },
    {
      "cell_type": "markdown",
      "id": "22c8862c-3e30-4648-a6f2-1327089dab12",
      "metadata": {
        "id": "22c8862c-3e30-4648-a6f2-1327089dab12"
      },
      "source": [
        "## 1. Load data 🔋"
      ]
    },
    {
      "cell_type": "code",
      "execution_count": 120,
      "metadata": {},
      "outputs": [],
      "source": [
        "# mnist_training_set = torchvision.datasets.MNIST(\n",
        "#     \"data\", train=True, download=True, transform=torchvision.transforms.ToTensor()\n",
        "# )\n",
        "# mnist_validation_set = torchvision.datasets.MNIST(\n",
        "#     \"data\", train=False, download=True, transform=torchvision.transforms.ToTensor()\n",
        "# )\n",
        "# print(mnist_training_set)"
      ]
    },
    {
      "cell_type": "code",
      "execution_count": 121,
      "metadata": {},
      "outputs": [],
      "source": [
        "# batch_size = 64\n",
        "\n",
        "# training_dataloader = torch.utils.data.DataLoader(\n",
        "#     mnist_training_set, shuffle=True, batch_size=batch_size\n",
        "# )\n",
        "# # validation_dataloader = torch.utils.data.DataLoader(\n",
        "# #     mnist_validation_set, shuffle=True, batch_size=batch_size\n",
        "# # )\n",
        "# print(training_dataloader)"
      ]
    },
    {
      "cell_type": "code",
      "execution_count": 122,
      "id": "ae3a6af2-68aa-4cad-8159-a8d01173ad7c",
      "metadata": {
        "id": "ae3a6af2-68aa-4cad-8159-a8d01173ad7c"
      },
      "outputs": [
        {
          "name": "stdout",
          "output_type": "stream",
          "text": [
            "Image shape\n",
            "(1, 64, 64)\n",
            "[[[  0.   0.   0. ... 255.   0.   0.]\n",
            "  [  0.   0.   0. ...   0.   0.   0.]\n",
            "  [  0.   0.   0. ...   0.   0.   0.]\n",
            "  ...\n",
            "  [  0.   0.   0. ...   0.   0.   0.]\n",
            "  [  0.   0.   0. ...   0.   0.   0.]\n",
            "  [  0.   0. 255. ...   0.   0.   0.]]]\n",
            "<class 'numpy.ndarray'>\n"
          ]
        },
        {
          "data": {
            "image/png": "[encoded data removed]",
            "text/plain": [
              "<Figure size 640x480 with 1 Axes>"
            ]
          },
          "metadata": {},
          "output_type": "display_data"
        }
      ],
      "source": [
        "# mnist_training_set = torchvision.datasets.MNIST(\n",
        "#     \"data\", train=True, download=True, transform=torchvision.transforms.ToTensor()\n",
        "# )\n",
        "# mnist_validation_set = torchvision.datasets.MNIST(\n",
        "#     \"data\", train=False, download=True, transform=torchvision.transforms.ToTensor()\n",
        "# )\n",
        "from PIL import Image\n",
        "import glob\n",
        "\n",
        "#load training images\n",
        "all_images = []\n",
        "path = 'E:\\dev\\Fall23Project\\dataset/*.png'\n",
        "path_dummy = 'E:\\dev\\Fall23Project\\dataset_dummy/*.png'\n",
        "for filename in glob.glob(path_dummy):\n",
        "    im=Image.open(filename).convert('L') #.convert(\"RGB\")\n",
        "    \n",
        "    all_images.append(np.expand_dims(np.array(im).astype(np.float32), axis = 0))# .transpose(2,0,1))\n",
        "\n",
        "\n",
        "all_images = np.array(all_images)\n",
        "imgplot = plt.imshow(all_images[0][0])# .transpose(1,2,0))\n",
        "\n",
        "print(\"Image shape\")\n",
        "print(all_images[0].shape)\n",
        "print(all_images[0])\n",
        "print(type(all_images))\n",
        "\n",
        "\n",
        "\n",
        "\n",
        "\n",
        "#load \n",
        "\n",
        "# path = \"/dataset/\"\n",
        "# blf_training_set = load...\n",
        "\n",
        "\n",
        "# blf_validation_set = load..."
      ]
    },
    {
      "cell_type": "code",
      "execution_count": 123,
      "id": "5a2caf56-134e-4e16-9312-bd76247492ea",
      "metadata": {
        "id": "5a2caf56-134e-4e16-9312-bd76247492ea"
      },
      "outputs": [
        {
          "name": "stdout",
          "output_type": "stream",
          "text": [
            "30000\n",
            "(21000, 1, 64, 64)\n",
            "(8999, 1, 64, 64)\n"
          ]
        }
      ],
      "source": [
        "from torch.utils.data import TensorDataset, DataLoader\n",
        "batch_size = 64\n",
        "print(len(all_images))\n",
        "training_images = all_images[:int(len(all_images)*0.7)]\n",
        "validation_images = all_images[int(len(all_images)*0.7)+1:]\n",
        "print(training_images.shape)\n",
        "print(validation_images.shape)\n",
        "training_images = torch.Tensor(training_images)\n",
        "training_images = np.array(training_images)\n",
        "training_dataloader = DataLoader(training_images, shuffle= True, batch_size = batch_size) # create your dataloader\n",
        "\n",
        "\n",
        "validation_images = torch.Tensor(validation_images)\n",
        "validation_images = np.array(validation_images)\n",
        "validation_dataloader = DataLoader(validation_images, shuffle= True, batch_size = batch_size) # create your dataloader\n"
      ]
    },
    {
      "cell_type": "markdown",
      "id": "aceb646a-2082-46d8-8619-6ce3be8ef50f",
      "metadata": {
        "id": "aceb646a-2082-46d8-8619-6ce3be8ef50f"
      },
      "source": [
        "## 2. Autoencoder\n"
      ]
    },
    {
      "cell_type": "code",
      "execution_count": 124,
      "id": "a540e7fe-1daa-440e-a6c6-b5d5029de327",
      "metadata": {
        "id": "a540e7fe-1daa-440e-a6c6-b5d5029de327"
      },
      "outputs": [],
      "source": [
        "class AutoEncoder(torch.nn.Module):\n",
        "    def __init__(self, encoder, decoder):\n",
        "        super(AutoEncoder, self).__init__()\n",
        "        self.encoder = encoder\n",
        "        self.decoder = decoder\n",
        "\n",
        "        # can use other losses too, MAE, etc.\n",
        "        self.loss = torch.nn.MSELoss() #Binary Cross Entropy\n",
        "        \n",
        "    def forward(self, x):\n",
        "        encoded = self.encoder(x) #x is the image of the digit\n",
        "        decoded = self.decoder(encoded)\n",
        "        return decoded\n",
        "\n",
        "    def reconstruction_loss(self, input_image, target_image):\n",
        "        return self.loss(input_image, target_image) "
      ]
    },
    {
      "cell_type": "markdown",
      "id": "65ff7422-cc19-42e3-8c01-3f07c5a22c41",
      "metadata": {
        "id": "65ff7422-cc19-42e3-8c01-3f07c5a22c41"
      },
      "source": [
        "An autoencoder is as simple as that! That said, we do need to define the encoders and decoders. We'll keep things simple and simply declare them using `Sequential` wrappers."
      ]
    },
    {
      "cell_type": "code",
      "execution_count": 125,
      "id": "22c68b26-6379-4f9c-806b-1f24d4e0f41e",
      "metadata": {
        "id": "22c68b26-6379-4f9c-806b-1f24d4e0f41e"
      },
      "outputs": [],
      "source": [
        "class Encoder(torch.nn.Module):\n",
        "  #we are dealing with images -> use convolutional network.\n",
        "    def __init__(self, latent_dimensionality=2):\n",
        "        super(Encoder, self).__init__()\n",
        "\n",
        "        self.conv_1 = torch.nn.Conv2d(\n",
        "            in_channels=1, out_channels=16, kernel_size=(3, 3), stride=(1, 1)\n",
        "        ) # 1 input\n",
        "        self.conv_2 = torch.nn.Conv2d(\n",
        "            in_channels=16, out_channels=32, kernel_size=(3, 3), stride=(1, 1)\n",
        "        )\n",
        "        self.pool_1 = torch.nn.MaxPool2d(kernel_size=(2, 2), stride=(2, 2))\n",
        "        self.conv_3 = torch.nn.Conv2d(\n",
        "            in_channels=32, out_channels=64, kernel_size=(3, 3), stride=(1, 1)\n",
        "        )\n",
        "        self.pool_2 = torch.nn.MaxPool2d(kernel_size=(2, 2), stride=(2, 2))\n",
        "        self.fc_1 = torch.nn.Linear(in_features=64 * 14 * 14, out_features=32)\n",
        "        self.fc_2 = torch.nn.Linear(in_features=32, out_features=latent_dimensionality)\n",
        "\n",
        "    def forward(self, x):\n",
        "        #Have to check dimensions\n",
        "        x = self.conv_1(x)  # 1x64x64 -> 16x62x62\n",
        "        x = F.relu(x) # to learn non-linear behavior\n",
        "        x = self.conv_2(x)  # 16x62x62 -> 32x60x60\n",
        "        x = F.relu(x)\n",
        "        x = self.pool_1(x)  # 32x60x60 -> 32x30x30\n",
        "        x = self.conv_3(x)  # 32x30x30 -> 64x28x28\n",
        "        x = F.relu(x)\n",
        "        x = self.pool_2(x)  # 64x28x28 -> 64x14x14\n",
        "        x = x.view(x.shape[0], -1)  # flatten x  shape[0] is the batch size, -1 is the last dimension of x\n",
        "        x = self.fc_1(x)\n",
        "        x = F.relu(x)\n",
        "        x = self.fc_2(x)\n",
        "\n",
        "        return x\n",
        "\n",
        "\n",
        "# the decoder essentially mirrors the architecture of the encoder\n",
        "class Decoder(torch.nn.Module):\n",
        "    def __init__(self, latent_dimensionality=2):\n",
        "        super(Decoder, self).__init__()\n",
        "\n",
        "        self.fc_1 = torch.nn.Linear(in_features=latent_dimensionality, out_features=32)\n",
        "        self.fc_2 = torch.nn.Linear(in_features=32, out_features=64 * 14 * 14)\n",
        "        self.upsample_1 = torch.nn.UpsamplingNearest2d(scale_factor=(2, 2))\n",
        "        self.conv_1 = torch.nn.Conv2d(\n",
        "            in_channels=64,\n",
        "            out_channels=32,\n",
        "            kernel_size=(3, 3),\n",
        "            stride=(1, 1),\n",
        "            padding=(2, 2),\n",
        "        )\n",
        "        self.upsample_2 = torch.nn.UpsamplingNearest2d(scale_factor=(2, 2))\n",
        "        self.conv_2 = torch.nn.Conv2d(\n",
        "            in_channels=32,\n",
        "            out_channels=16,\n",
        "            kernel_size=(3, 3),\n",
        "            stride=(1, 1),\n",
        "            padding=(2, 2),\n",
        "        )\n",
        "        self.conv_3 = torch.nn.Conv2d(\n",
        "            in_channels=16,\n",
        "            out_channels=1,\n",
        "            kernel_size=(3, 3),\n",
        "            stride=(1, 1),\n",
        "            padding=(2, 2),\n",
        "        )\n",
        "\n",
        "    def forward(self, x):\n",
        "        x = self.fc_1(x)\n",
        "        x = F.relu(x)\n",
        "        x = self.fc_2(x)\n",
        "        x = F.relu(x)\n",
        "        x = x.view(-1, 64, 14, 14)\n",
        "        x = self.upsample_1(x)\n",
        "        x = self.conv_1(x)\n",
        "        x = F.relu(x)\n",
        "        x = self.upsample_2(x)\n",
        "        x = self.conv_2(x)\n",
        "        x = F.relu(x)\n",
        "        x = self.conv_3(x)\n",
        "        x = torch.sigmoid(x)  # squeeze pixel value between 0 and 1\n",
        "\n",
        "        return x"
      ]
    },
    {
      "cell_type": "code",
      "execution_count": 126,
      "id": "79e7c587-d888-4d9c-9c4d-7e3937af8f85",
      "metadata": {
        "id": "79e7c587-d888-4d9c-9c4d-7e3937af8f85"
      },
      "outputs": [],
      "source": [
        "device = \"cuda\" if torch.cuda.is_available() else \"cpu\""
      ]
    },
    {
      "cell_type": "code",
      "execution_count": 127,
      "id": "c3ba8905-9f88-46e4-bf2e-84faf8e3939f",
      "metadata": {
        "id": "c3ba8905-9f88-46e4-bf2e-84faf8e3939f"
      },
      "outputs": [],
      "source": [
        "ae_model = AutoEncoder(encoder=Encoder(), decoder=Decoder()).to(device)"
      ]
    },
    {
      "cell_type": "code",
      "execution_count": 128,
      "id": "f4e91b53-4945-459f-80a0-3704c084b64c",
      "metadata": {
        "colab": {
          "base_uri": "https://localhost:8080/"
        },
        "id": "f4e91b53-4945-459f-80a0-3704c084b64c",
        "outputId": "fc610944-d32a-4e03-f79d-48702a26cf43"
      },
      "outputs": [
        {
          "name": "stdout",
          "output_type": "stream",
          "text": [
            "----------------------------------------------------------------\n",
            "        Layer (type)               Output Shape         Param #\n",
            "================================================================\n",
            "            Conv2d-1           [-1, 16, 62, 62]             160\n",
            "            Conv2d-2           [-1, 32, 60, 60]           4,640\n",
            "         MaxPool2d-3           [-1, 32, 30, 30]               0\n",
            "            Conv2d-4           [-1, 64, 28, 28]          18,496\n",
            "         MaxPool2d-5           [-1, 64, 14, 14]               0\n",
            "            Linear-6                   [-1, 32]         401,440\n",
            "            Linear-7                    [-1, 2]              66\n",
            "           Encoder-8                    [-1, 2]               0\n",
            "            Linear-9                   [-1, 32]              96\n",
            "           Linear-10                [-1, 12544]         413,952\n",
            "UpsamplingNearest2d-11           [-1, 64, 28, 28]               0\n",
            "           Conv2d-12           [-1, 32, 30, 30]          18,464\n",
            "UpsamplingNearest2d-13           [-1, 32, 60, 60]               0\n",
            "           Conv2d-14           [-1, 16, 62, 62]           4,624\n",
            "           Conv2d-15            [-1, 1, 64, 64]             145\n",
            "          Decoder-16            [-1, 1, 64, 64]               0\n",
            "================================================================\n",
            "Total params: 862,083\n",
            "Trainable params: 862,083\n",
            "Non-trainable params: 0\n",
            "----------------------------------------------------------------\n",
            "Input size (MB): 0.02\n",
            "Forward/backward pass size (MB): 4.16\n",
            "Params size (MB): 3.29\n",
            "Estimated Total Size (MB): 7.46\n",
            "----------------------------------------------------------------\n"
          ]
        }
      ],
      "source": [
        "# summary(ae_model, input_size=(1, 28, 28))\n",
        "summary(ae_model, input_size=(1, 64, 64))"
      ]
    },
    {
      "cell_type": "code",
      "execution_count": 129,
      "id": "826da370-47ef-4ab5-aa75-051b56d7cf90",
      "metadata": {
        "id": "826da370-47ef-4ab5-aa75-051b56d7cf90"
      },
      "outputs": [],
      "source": [
        "optimizer = torch.optim.Adam(ae_model.parameters(), lr=0.001)"
      ]
    },
    {
      "cell_type": "code",
      "execution_count": 130,
      "metadata": {},
      "outputs": [
        {
          "data": {
            "image/png": "[encoded data removed]",
            "text/plain": [
              "<Figure size 640x480 with 1 Axes>"
            ]
          },
          "metadata": {},
          "output_type": "display_data"
        }
      ],
      "source": [
        "input_tensor = torch.rand(64, 1, 64, 64).to(device)\n",
        "\n",
        "# Call the autoencoder\n",
        "output = ae_model(input_tensor)\n",
        "imgplot = plt.imshow(output[0][0].detach().cpu().numpy())"
      ]
    },
    {
      "cell_type": "code",
      "execution_count": 131,
      "metadata": {},
      "outputs": [],
      "source": [
        "# mnist_training_set = torchvision.datasets.MNIST(\n",
        "#     \"data\", train=True, download=True, transform=torchvision.transforms.ToTensor())\n",
        "# batch_size = 64\n",
        "\n",
        "# training_dataloader = torch.utils.data.DataLoader(\n",
        "#     mnist_training_set, shuffle=True, batch_size=batch_size\n",
        "# )\n",
        "\n",
        "# for j, (digit_images,_) in enumerate(training_dataloader):\n",
        "#     optimizer.zero_grad() #reset the optimizer in every batch\n",
        "#     # print(type(digit_images))\n",
        "#     print(j)\n",
        "#     print(np.array(digit_images).shape)\n",
        "#     print(digit_images)\n",
        "#     break\n"
      ]
    },
    {
      "cell_type": "code",
      "execution_count": 132,
      "id": "78336129-94cb-4969-8359-a5e87253af08",
      "metadata": {
        "colab": {
          "base_uri": "https://localhost:8080/",
          "height": 1000,
          "referenced_widgets": [
            "664949285a69435e8ee81a22eabd1929",
            "c9dbcb3adf6a49c6a81419782e2f425a",
            "1cf4dd65a1634d19a0995ae9f48ade68",
            "bf6d2e5da0134f0d84eca2976e0c01b6",
            "90b9b815b18e4e99957e970f44502440",
            "8bb5e8fdc18048b78de2fa49e53afad7",
            "388e23336c2c4210b05993d9468d8c24",
            "00c79321b1b8498bbb32d5990a0549f0",
            "54dce2fa77ef4a6da5440107e8a44ce2",
            "fa002478f4e94264bbdef5694022bd3d",
            "92cb109b42c54c3e8774407e2fc71e72"
          ]
        },
        "id": "78336129-94cb-4969-8359-a5e87253af08",
        "outputId": "3ebcda38-2b96-45ea-afd3-8b8fc642bc88"
      },
      "outputs": [
        {
          "data": {
            "application/vnd.jupyter.widget-view+json": {
              "model_id": "f01c2eb11a674c1da4ffe5144ce66e54",
              "version_major": 2,
              "version_minor": 0
            },
            "text/plain": [
              "  0%|          | 0/20 [00:00<?, ?it/s]"
            ]
          },
          "metadata": {},
          "output_type": "display_data"
        },
        {
          "name": "stdout",
          "output_type": "stream",
          "text": [
            "Epoch 1 | Mean training loss after 199 batches: 38274.039\n",
            "Epoch 1 | Mean training loss: 38234.250 | Mean validation loss: 38202.324\n",
            "Epoch 2 | Mean training loss after 199 batches: 38255.426\n",
            "Epoch 2 | Mean training loss: 38238.863 | Mean validation loss: 38206.469\n",
            "Epoch 3 | Mean training loss after 199 batches: 38235.684\n"
          ]
        }
      ],
      "source": [
        "n_epochs = 20\n",
        "reporting_frequency = 200\n",
        "for i in tqdm(range(1, n_epochs + 1)):\n",
        "\n",
        "    # training\n",
        "    training_losses = []\n",
        "    for j, (digit_images) in enumerate(training_dataloader):\n",
        "        optimizer.zero_grad() #reset the optimizer in every batch\n",
        "        # print(np.array(digit_images).shape)\n",
        "        # print(digit_images)\n",
        "\n",
        "        # digit_images = torch.tensor(digit_images)\n",
        "        # print(digit_images.shape)\n",
        "        digit_images = digit_images.to(device)\n",
        "        # print(digit_images.shape)   \n",
        "        reconstructed = ae_model(digit_images)\n",
        "        loss = ae_model.reconstruction_loss(reconstructed, digit_images) #loss between digit and reconstrcted.\n",
        "\n",
        "        loss.backward()\n",
        "        optimizer.step()\n",
        "\n",
        "        training_losses.append(loss.detach().cpu().numpy())\n",
        "        if (j + 1) % reporting_frequency == 0:\n",
        "            print(\n",
        "                \"Epoch {0} | Mean training loss after {1} batches: {2:.3f}\".format(\n",
        "                    i, j, np.mean(training_losses)\n",
        "                )\n",
        "            )\n",
        "\n",
        "    #validation\n",
        "    validation_losses = []\n",
        "    for j, (digit_images) in enumerate(validation_dataloader):\n",
        "        digit_images = digit_images.to(device)\n",
        "        reconstructed = ae_model(digit_images)\n",
        "        loss = ae_model.reconstruction_loss(reconstructed, digit_images)\n",
        "\n",
        "        validation_losses.append(loss.detach().cpu().numpy())\n",
        "\n",
        "    print(\n",
        "        \"Epoch {0} | Mean training loss: {1:.3f} | Mean validation loss: {2:.3f}\".format(\n",
        "            i, np.mean(training_losses), np.mean(validation_losses)\n",
        "        )\n",
        "    )"
      ]
    },
    {
      "cell_type": "code",
      "execution_count": 70,
      "metadata": {},
      "outputs": [
        {
          "data": {
            "text/plain": [
              "<function matplotlib.pyplot.show(close=None, block=None)>"
            ]
          },
          "execution_count": 70,
          "metadata": {},
          "output_type": "execute_result"
        },
        {
          "data": {
            "image/png": "[encoded data removed]",
            "text/plain": [
              "<Figure size 640x480 with 2 Axes>"
            ]
          },
          "metadata": {},
          "output_type": "display_data"
        }
      ],
      "source": [
        "#plot losses\n",
        "fig, (ax1, ax2) = plt.subplots(2, 1)\n",
        "fig.suptitle('Losses')\n",
        "\n",
        "ax1.set_ylabel('Training losses')\n",
        "\n",
        "\n",
        "p1 = ax1.plot(training_losses)\n",
        "\n",
        "ax2.set_ylabel('Validation losses')\n",
        "ax2.set_xlabel(\"Epoch\")\n",
        "\n",
        "p2 = ax2.plot(validation_losses)\n",
        "\n",
        "plt.show"
      ]
    },
    {
      "cell_type": "code",
      "execution_count": 71,
      "id": "168fe5fc-904e-4da8-a205-271a7b420d5b",
      "metadata": {
        "colab": {
          "base_uri": "https://localhost:8080/"
        },
        "id": "168fe5fc-904e-4da8-a205-271a7b420d5b",
        "outputId": "f78b7bcb-e23a-4a6b-88dd-47227202a67c"
      },
      "outputs": [
        {
          "data": {
            "text/plain": [
              "AutoEncoder(\n",
              "  (encoder): Encoder(\n",
              "    (conv_1): Conv2d(1, 16, kernel_size=(3, 3), stride=(1, 1))\n",
              "    (conv_2): Conv2d(16, 32, kernel_size=(3, 3), stride=(1, 1))\n",
              "    (pool_1): MaxPool2d(kernel_size=(2, 2), stride=(2, 2), padding=0, dilation=1, ceil_mode=False)\n",
              "    (conv_3): Conv2d(32, 64, kernel_size=(3, 3), stride=(1, 1))\n",
              "    (pool_2): MaxPool2d(kernel_size=(2, 2), stride=(2, 2), padding=0, dilation=1, ceil_mode=False)\n",
              "    (fc_1): Linear(in_features=12544, out_features=32, bias=True)\n",
              "    (fc_2): Linear(in_features=32, out_features=2, bias=True)\n",
              "  )\n",
              "  (decoder): Decoder(\n",
              "    (fc_1): Linear(in_features=2, out_features=32, bias=True)\n",
              "    (fc_2): Linear(in_features=32, out_features=12544, bias=True)\n",
              "    (upsample_1): UpsamplingNearest2d(scale_factor=(2.0, 2.0), mode='nearest')\n",
              "    (conv_1): Conv2d(64, 32, kernel_size=(3, 3), stride=(1, 1), padding=(2, 2))\n",
              "    (upsample_2): UpsamplingNearest2d(scale_factor=(2.0, 2.0), mode='nearest')\n",
              "    (conv_2): Conv2d(32, 16, kernel_size=(3, 3), stride=(1, 1), padding=(2, 2))\n",
              "    (conv_3): Conv2d(16, 1, kernel_size=(3, 3), stride=(1, 1), padding=(2, 2))\n",
              "  )\n",
              "  (loss): L1Loss()\n",
              ")"
            ]
          },
          "execution_count": 71,
          "metadata": {},
          "output_type": "execute_result"
        }
      ],
      "source": [
        "ae_model.eval() #put this to inference mode. (good practice to do so)"
      ]
    },
    {
      "cell_type": "code",
      "execution_count": 116,
      "id": "51ad912f-2d3a-4260-bec3-bd030b107561",
      "metadata": {
        "colab": {
          "base_uri": "https://localhost:8080/",
          "height": 795
        },
        "id": "51ad912f-2d3a-4260-bec3-bd030b107561",
        "outputId": "0b489129-47e0-4ea6-fc06-ca193ffa59b3"
      },
      "outputs": [
        {
          "name": "stdout",
          "output_type": "stream",
          "text": [
            "torch.Size([64, 1, 64, 64])\n"
          ]
        },
        {
          "data": {
            "image/png": "[encoded data removed]",
            "text/plain": [
              "<Figure size 640x480 with 1 Axes>"
            ]
          },
          "metadata": {},
          "output_type": "display_data"
        },
        {
          "data": {
            "image/png": "[encoded data removed]",
            "text/plain": [
              "<Figure size 640x480 with 1 Axes>"
            ]
          },
          "metadata": {},
          "output_type": "display_data"
        }
      ],
      "source": [
        "img_sample = next(iter(training_dataloader)).to(device)\n",
        "print(img_sample.shape)\n",
        "i = 10\n",
        "plt.imshow(img_sample[0][0].cpu())\n",
        "plt.axis(\"off\")\n",
        "plt.show()\n",
        "plt.imshow(ae_model(img_sample)[0][0].detach().cpu())\n",
        "plt.axis(\"off\")\n",
        "plt.show()"
      ]
    },
    {
      "cell_type": "code",
      "execution_count": null,
      "id": "b5473752-7b7a-433b-8f07-bf5e1aa01c5f",
      "metadata": {
        "id": "b5473752-7b7a-433b-8f07-bf5e1aa01c5f"
      },
      "outputs": [],
      "source": [
        "def get_all_encodings(model, dataloader):\n",
        "    all_encoded = []\n",
        "    all_labels = []\n",
        "    for j, (digit_images, labels) in enumerate(dataloader):\n",
        "        encoding = model.encoder(digit_images.to(device)).detach().cpu().numpy()\n",
        "        all_encoded.append(encoding)\n",
        "        all_labels.append(labels.numpy())\n",
        "\n",
        "    all_encoded = np.concatenate(all_encoded)\n",
        "    all_labels = np.concatenate(all_labels)\n",
        "    return all_encoded, all_labels\n",
        "\n",
        "\n",
        "def plot_mnist_encoding(model):\n",
        "    fig, ax = plt.subplots(1, 2, figsize=(10, 5))\n",
        "\n",
        "    # Training data\n",
        "    ax[0].set_title(label=\"Encoding of MNIST training set\")\n",
        "    all_encoded, all_labels = get_all_encodings(model, training_dataloader)\n",
        "    training_bbox = np.min(all_encoded, axis=0), np.max(all_encoded, axis=0)\n",
        "\n",
        "    scatter = ax[0].scatter(\n",
        "        all_encoded[:, 0],\n",
        "        all_encoded[:, 1],\n",
        "        c=all_labels,\n",
        "        alpha=0.2,\n",
        "        cmap=\"plasma\",\n",
        "        label=\"Training\",\n",
        "    )\n",
        "\n",
        "    ax[0].legend(*scatter.legend_elements(), loc=\"lower left\", title=\"Labels\")\n",
        "\n",
        "    # Validation data\n",
        "    ax[1].set_title(label=\"Encoding of MNIST validation set\")\n",
        "    all_encoded, all_labels = get_all_encodings(model, validation_dataloader)\n",
        "    validation_bbox = np.min(all_encoded, axis=0), np.max(all_encoded, axis=0)\n",
        "\n",
        "    scatter = ax[1].scatter(\n",
        "        all_encoded[:, 0],\n",
        "        all_encoded[:, 1],\n",
        "        c=all_labels,\n",
        "        alpha=0.5,\n",
        "        marker=\"+\",\n",
        "        cmap=\"plasma\",\n",
        "    )\n",
        "\n",
        "    ax[1].legend(*scatter.legend_elements(), title=\"Labels\", bbox_to_anchor=(1, 0.5))\n",
        "\n",
        "    # adjust such that both subplots have same bounds\n",
        "    ax[0].set_xlim(\n",
        "        min(training_bbox[0][0], validation_bbox[0][0]),\n",
        "        max(training_bbox[1][0], validation_bbox[1][0]),\n",
        "    )\n",
        "    ax[1].set_xlim(\n",
        "        min(training_bbox[0][0], validation_bbox[0][0]),\n",
        "        max(training_bbox[1][0], validation_bbox[1][0]),\n",
        "    )\n",
        "\n",
        "    ax[0].set_ylim(\n",
        "        min(training_bbox[0][1], validation_bbox[0][1]),\n",
        "        max(training_bbox[1][1], validation_bbox[1][1]),\n",
        "    )\n",
        "    ax[1].set_ylim(\n",
        "        min(training_bbox[0][1], validation_bbox[0][1]),\n",
        "        max(training_bbox[1][1], validation_bbox[1][1]),\n",
        "    )"
      ]
    },
    {
      "cell_type": "code",
      "execution_count": null,
      "id": "c16aa5ce-54f7-4331-b28c-81616ec9d724",
      "metadata": {
        "colab": {
          "base_uri": "https://localhost:8080/",
          "height": 491
        },
        "id": "c16aa5ce-54f7-4331-b28c-81616ec9d724",
        "outputId": "b5c91605-28d5-4c55-b886-ab3bc8703144"
      },
      "outputs": [],
      "source": [
        "plot_mnist_encoding(ae_model)"
      ]
    },
    {
      "cell_type": "markdown",
      "id": "e7aa2dcb-3add-4638-8ee6-f4ed4388386e",
      "metadata": {
        "id": "e7aa2dcb-3add-4638-8ee6-f4ed4388386e"
      },
      "source": [
        "The scatter plots of the encoded data above demonstrates that the encoder does a decent job at separating digites of different classes despite the extremely reduced dimensionality of the latent space. That said, the latent space is not necessarily meaningful. There are plenty of regions that are empty and the encoding does not follow a predictable structure making it difficult to use this latent space to generate samples.\n",
        "\n",
        "To bring structure to the latent space, we need to enforce some sort of constraint over the structure of the latent space. This is where **Variational Autoencoders** (VAE) come in."
      ]
    },
    {
      "cell_type": "markdown",
      "id": "7897f647-9ebf-470e-a06a-90ccc85054e9",
      "metadata": {
        "id": "7897f647-9ebf-470e-a06a-90ccc85054e9"
      },
      "source": [
        "Let's save the model. All we have to do is save the so-called `state_dict` of the trained model, i.e. the model weights/parameters. We can then reload the model by simply loading it onto the model (as long as the model architecture is unchanged). This is the only thing we really need to save as long as we keep track of the architecture of the network we built. More details on saving models can be found in the [PyTorch documentation](https://pytorch.org/tutorials/recipes/recipes/saving_and_loading_models_for_inference.html)"
      ]
    },
    {
      "cell_type": "code",
      "execution_count": null,
      "id": "e887cb11-8017-41c9-a4b4-1065819f4e4b",
      "metadata": {
        "id": "e887cb11-8017-41c9-a4b4-1065819f4e4b"
      },
      "outputs": [],
      "source": [
        "saved_file_name = \"mnist_ae_weights.pth\"  # the extension does not matter\n",
        "# Save learned parameters\n",
        "torch.save(ae_model.state_dict(), saved_file_name)"
      ]
    },
    {
      "cell_type": "code",
      "execution_count": null,
      "id": "617ce950-c674-4fec-97ff-9a5d55be584a",
      "metadata": {
        "colab": {
          "base_uri": "https://localhost:8080/"
        },
        "id": "617ce950-c674-4fec-97ff-9a5d55be584a",
        "outputId": "b135352e-18d0-4ae8-b1b2-be1fc5b4a208"
      },
      "outputs": [],
      "source": [
        "# Load model parameters\n",
        "reloaded_ae_model = AutoEncoder(encoder=Encoder(), decoder=Decoder()).to(device)\n",
        "reloaded_ae_model.load_state_dict(torch.load(saved_file_name))\n",
        "reloaded_ae_model.eval()"
      ]
    },
    {
      "cell_type": "markdown",
      "id": "479b7775-4fb3-4cc7-b4ef-d214a8211316",
      "metadata": {
        "id": "479b7775-4fb3-4cc7-b4ef-d214a8211316"
      },
      "source": [
        "## 3. Variational autoencoder\n",
        "We have built a vanilla autoencoder. As we've seen, its latent space does not look amazing. Let's see if how the latent space of an equivalent variational autoencoder looks!"
      ]
    },
    {
      "cell_type": "code",
      "execution_count": null,
      "id": "7a0d7381-76c5-418f-a28c-6170d67cbb33",
      "metadata": {
        "id": "7a0d7381-76c5-418f-a28c-6170d67cbb33"
      },
      "outputs": [],
      "source": [
        "class VariationalAutoEncoder(AutoEncoder):\n",
        "    def __init__(self, encoder, decoder, latent_dimensionality):\n",
        "        super(VariationalAutoEncoder, self).__init__(encoder, decoder)\n",
        "\n",
        "        self.latent_dimensionality = latent_dimensionality\n",
        "\n",
        "    def forward(self, x):\n",
        "        x = self.encoder(x)\n",
        "        mu = x[:, : self.latent_dimensionality]\n",
        "        log_variance = x[:, self.latent_dimensionality :]\n",
        "        # sample from gaussian dis\n",
        "        # project to log sigma^2 so we dont get negative values.\n",
        "        variance = torch.exp(log_variance) #get rid of the negatives?\n",
        "        eps = torch.randn_like(variance) #sample from a normal distribution\n",
        "        sample = mu + torch.sqrt(variance) * eps #randomly scale, close to mu but not mu.\n",
        "\n",
        "        x = self.decoder(sample)\n",
        "        return x, mu, log_variance #we need mu and log_variance to compute KLdivergence.\n",
        "\n",
        "    def kullback_leibler_divergence(self, mu, log_variance):\n",
        "      #commonly derive expression\n",
        "        return 0.5 * torch.mean(mu ** 2 + torch.exp(log_variance) - (1 + log_variance))"
      ]
    },
    {
      "cell_type": "code",
      "execution_count": null,
      "id": "7491a6ca-ed55-49d4-8e8b-d9002a43dc44",
      "metadata": {
        "id": "7491a6ca-ed55-49d4-8e8b-d9002a43dc44"
      },
      "outputs": [],
      "source": [
        "vae_model = VariationalAutoEncoder(\n",
        "    Encoder(latent_dimensionality=4),\n",
        "    Decoder(latent_dimensionality=2),\n",
        "    latent_dimensionality=2,\n",
        ").to(device)"
      ]
    },
    {
      "cell_type": "code",
      "execution_count": null,
      "id": "436f941f-c26c-4d97-9964-448faa36f3c4",
      "metadata": {
        "id": "436f941f-c26c-4d97-9964-448faa36f3c4"
      },
      "outputs": [],
      "source": [
        "optimizer = torch.optim.Adam(vae_model.parameters(), lr=0.001)"
      ]
    },
    {
      "cell_type": "code",
      "execution_count": null,
      "id": "737917cd-47e2-4a93-a101-43fa15ba99f4",
      "metadata": {
        "colab": {
          "base_uri": "https://localhost:8080/",
          "height": 1000,
          "referenced_widgets": [
            "b6133289a216451e9780fb1d27ba03c8",
            "b19e99107c6146deb9a0dc10be5e6737",
            "fb06cdd7f4b04f9086ff41cf4e162c94",
            "293ac590c7ae4c4c983f2ae84a7b2e0b",
            "b0f69ed946a14fd19b2d02026fd19742",
            "383e882106f747c49d8963a7b3998027",
            "a73fd0bde28d407da73776bbb407fc81",
            "4f66ef7661ff457aa710d5d2851dad6a",
            "3d9839eaa1e44a18b373d893c98d8221",
            "932348d7172542868874f05f96da5ea5",
            "fa41adc6270b4f32a4749f7709d2a0bb"
          ]
        },
        "id": "737917cd-47e2-4a93-a101-43fa15ba99f4",
        "outputId": "728c1298-d235-4743-db75-1be97201c61f"
      },
      "outputs": [],
      "source": [
        "n_epochs = 20\n",
        "reporting_frequency = 200\n",
        "for i in tqdm(range(1, n_epochs + 1)):\n",
        "\n",
        "    # training\n",
        "    training_losses = []\n",
        "    for j, (digit_images, _) in enumerate(training_dataloader):\n",
        "        optimizer.zero_grad()\n",
        "        digit_images = digit_images.to(device)\n",
        "        reconstructed, mu, log_variance = vae_model(digit_images)\n",
        "        reconstruction_loss = vae_model.reconstruction_loss(reconstructed, digit_images)\n",
        "        kl_divergence_loss = vae_model.kullback_leibler_divergence(mu, log_variance)\n",
        "\n",
        "        #loss has 2 terms -> reconstruction loss and kl_divergence_loss\n",
        "        #scale 0.01 so it't not too big/small so it includes the kl_divergence, but not too much that interrupt the workflow.\n",
        "        loss = reconstruction_loss + 0.01 * kl_divergence_loss\n",
        "\n",
        "        loss.backward()\n",
        "        optimizer.step()\n",
        "\n",
        "        training_losses.append(loss.detach().cpu().numpy())\n",
        "        if (j + 1) % reporting_frequency == 0:\n",
        "            print(\n",
        "                \"Epoch {0} | Mean training loss after {1} batches: {2:.3f}\".format(\n",
        "                    i, j + 1, np.mean(training_losses)\n",
        "                )\n",
        "            )\n",
        "\n",
        "    # validation\n",
        "    validation_losses = []\n",
        "    for j, (digit_images, _) in enumerate(validation_dataloader):\n",
        "        digit_images = digit_images.to(device)\n",
        "        reconstructed, _, _ = vae_model(digit_images)\n",
        "        loss = vae_model.reconstruction_loss(reconstructed, digit_images)\n",
        "\n",
        "        validation_losses.append(loss.detach().cpu().numpy())\n",
        "\n",
        "    print(\n",
        "        \"Epoch {0} | Mean training total loss: {1:.3f} | Mean validation reconstruction loss: {2:.3f}\".format(\n",
        "            i, np.mean(training_losses), np.mean(validation_losses)\n",
        "        )\n",
        "    )"
      ]
    },
    {
      "cell_type": "code",
      "execution_count": null,
      "id": "1fd5e3f1-3dd7-45c9-b834-3997debadace",
      "metadata": {
        "colab": {
          "base_uri": "https://localhost:8080/",
          "height": 54
        },
        "id": "1fd5e3f1-3dd7-45c9-b834-3997debadace",
        "outputId": "591f0c17-cec2-484a-e779-9e78019e9653"
      },
      "outputs": [],
      "source": [
        "plot_mnist_encoding(vae_model)"
      ]
    },
    {
      "cell_type": "markdown",
      "id": "763968a4-b871-450e-9da9-851ea8f2289a",
      "metadata": {
        "id": "763968a4-b871-450e-9da9-851ea8f2289a"
      },
      "source": [
        "The visualization above, especially in constrast to the identical one done for the regular autoencoder shows the impact of the Kullback-Leibler divergence on the distribution of the encoded points in the latent space."
      ]
    },
    {
      "cell_type": "markdown",
      "id": "d5282699-b818-42f6-9534-c55a2b7556e5",
      "metadata": {
        "id": "d5282699-b818-42f6-9534-c55a2b7556e5"
      },
      "source": [
        "Let's visualize how the entire latent space decodes at once. How can we do that? Well, we can simply sample the latent space with a grid at a given resolution, decode each point into an image using a decoder and plot the mosaic of decoded images to get a full picture of the latent space."
      ]
    },
    {
      "cell_type": "code",
      "execution_count": null,
      "id": "f1861c7d-65f9-444e-9f8c-0bbd62ca55b1",
      "metadata": {
        "colab": {
          "base_uri": "https://localhost:8080/",
          "height": 54
        },
        "id": "f1861c7d-65f9-444e-9f8c-0bbd62ca55b1",
        "outputId": "7d74abf6-0c39-4f9a-9b0e-811910eb79d2"
      },
      "outputs": [],
      "source": [
        "n = 10  # number of images per rows columns\n",
        "\n",
        "# grid sampling in latent space\n",
        "z = np.linspace(-3, 3, n)\n",
        "Z1, Z2 = np.meshgrid(z, z)\n",
        "Z = np.vstack([Z1.flatten(), Z2.flatten()]).T\n",
        "\n",
        "# decode samples\n",
        "\n",
        "ims = vae_model.decoder(torch.tensor(Z).float().to(device).unsqueeze(0)).detach().cpu()\n",
        "\n",
        "# plot\n",
        "fig, axes = plt.subplots(n, n, figsize=(7, 7))\n",
        "fig.subplots_adjust(hspace=0.05, wspace=0.05)\n",
        "count = 0\n",
        "for k in range(0, ims.shape[0]):\n",
        "    i, j = int(count / n), int(count % n)\n",
        "    axes[i, j].imshow(ims[k, 0, :, :])\n",
        "    axes[i, j].axis(\"off\")\n",
        "    count += 1\n",
        "plt.show()"
      ]
    },
    {
      "cell_type": "markdown",
      "id": "51eb9c01-2151-488c-91d9-da8354b75aa8",
      "metadata": {
        "id": "51eb9c01-2151-488c-91d9-da8354b75aa8"
      },
      "source": [
        "We sampled the latent space with a simple evenly-space grid. Is that how we should sample the latent space? Not quite. Indeed, with a VAE, we are trying to constrain our encoded data to fit a normal distribution. That is, we are forcing the encoding to be denser around $[0,0]$ and sparser further away from the origin. If we sample with an evenly-spaced grid, we are not sampling those denser regions as much as we should. The visualization above illustrates this as there is little variation in the decoded samples but at the very center of the mosaic. This is where we'd like to have a denser sampling\n",
        "\n",
        "It turns out there is a simple solution to this issue: sample in probability space. Instead of sampling at $x$ where $[x=-3,x=-2,x=-1,...]$, we'll sample at $x$ where $[p(x)=0.05, p(x)=0.1, p(x)=0.15,...]$ where $p(x)$ is the cumulative density function (cdf) of the normal distribution (i.e. the probability that a sample from the normal distribution would be smaller than $x$). To find these sampling locations, we can use the inverse of the cdf, i.e. the percent point function (ppf) or quantile function, whihc is implemented in `scipy`.\n",
        "\n",
        "This may seem a little esoteric, so let's plot things to shed some light on what this type of sampling translates to. The plot below shows the distribution of points sampled on an evenly-spaced grid and on a grid that is evenly-spaced in probability terms."
      ]
    },
    {
      "cell_type": "code",
      "execution_count": null,
      "id": "c1d997f6-d92e-46c3-a42f-f222880ffb16",
      "metadata": {
        "colab": {
          "base_uri": "https://localhost:8080/",
          "height": 54
        },
        "id": "c1d997f6-d92e-46c3-a42f-f222880ffb16",
        "outputId": "87bde502-227b-4727-8c41-0ecbd1a7a873"
      },
      "outputs": [],
      "source": [
        "plt.figure(figsize=(7, 7))\n",
        "\n",
        "n = 20  # sampling resolution\n",
        "# evenly-spaced grid sampling in latent space\n",
        "z = np.linspace(-3, 3, n)\n",
        "Z1, Z2 = np.meshgrid(z, z)\n",
        "Z = np.vstack([Z1.flatten(), Z2.flatten()]).T\n",
        "\n",
        "plt.scatter(Z[:, 0], Z[:, 1], s=50, c=\"black\", label=\"Grid sampling\")\n",
        "\n",
        "z = scipy.stats.norm.ppf(np.linspace(0.005, 0.995, n))\n",
        "Z1, Z2 = np.meshgrid(z, z)\n",
        "Z = np.vstack([Z1.flatten(), Z2.flatten()]).T\n",
        "\n",
        "plt.scatter(Z[:, 0], Z[:, 1], marker=\"+\", s=100, c=\"red\", label=\"PPF sampling\")\n",
        "plt.legend(fontsize=10, bbox_to_anchor=(1, 0.5))\n",
        "plt.show()"
      ]
    },
    {
      "cell_type": "markdown",
      "id": "59c98fb5-84ec-4119-9ce5-5ffa70d42b84",
      "metadata": {
        "id": "59c98fb5-84ec-4119-9ce5-5ffa70d42b84"
      },
      "source": [
        "Now, let's use this sampling scheme on the MNIST VAE (with a higher resolution) and see what we get."
      ]
    },
    {
      "cell_type": "code",
      "execution_count": null,
      "id": "78145753-17cd-41fd-b416-fa4a728b14f0",
      "metadata": {
        "colab": {
          "base_uri": "https://localhost:8080/",
          "height": 576
        },
        "id": "78145753-17cd-41fd-b416-fa4a728b14f0",
        "outputId": "c1b48d4b-4f8e-4aeb-879f-c0fb97374dcf"
      },
      "outputs": [],
      "source": [
        "n = 20  # number of images per rows columns\n",
        "\n",
        "# grid sampling in latent space\n",
        "z = scipy.stats.norm.ppf(np.linspace(0.005, 0.995, n))\n",
        "Z1, Z2 = np.meshgrid(z, z)\n",
        "Z = np.vstack([Z1.flatten(), Z2.flatten()]).T\n",
        "\n",
        "# decode samples\n",
        "ims = vae_model.decoder(torch.tensor(Z).float().to(device).unsqueeze(0)).detach().cpu()\n",
        "\n",
        "# plot\n",
        "fig, axes = plt.subplots(n, n, figsize=(7, 7))\n",
        "fig.subplots_adjust(hspace=0.05, wspace=0.05)\n",
        "count = 0\n",
        "for k in range(0, ims.shape[0]):\n",
        "    i, j = int(count / n), int(count % n)\n",
        "    axes[i, j].imshow(ims[k, 0, :, :])\n",
        "    axes[i, j].axis(\"off\")\n",
        "    count += 1\n",
        "plt.show()"
      ]
    },
    {
      "cell_type": "markdown",
      "id": "894f3358-8a59-4d81-8317-2184cbbad2da",
      "metadata": {
        "id": "894f3358-8a59-4d81-8317-2184cbbad2da"
      },
      "source": [
        "We're now getting much more detail about what's happening closer to the origin, where most of the action truly is. This plot essentially provides a good snapshot of the spectrum of images the decoder is able to generate/reproduce.\n",
        "\n",
        "What is pretty remarkable is the ability of the decoder to smoothly interpolate between different digits, for example to produce 1s that almost look like 9s or vice-versa.That is the power of latent variable modeling. And now, imagine those were pictures of designs. You could use the same technique to compress a design space and provide a reduced map of designs just like this. We'll discuss this type of approach this week.\n",
        "\n",
        "Clearly, it cannot reproduce everything, as we would expect. Such heavy compression is almost inevitably lossy, and in this case, a latent dimensionality of 2 is probably too small. We may be able to push things further by increasing the complexity of the model but we would some limit because we just cannot fit an infinite amount of variation in that small space.\n",
        "\n",
        "Reducing the size of your latent space almost inevitably means reducing its representational power, but a smaller latent space is also easier to explore, visualize, and exploit for design generation, so this trade-off is often worth it."
      ]
    },
    {
      "cell_type": "markdown",
      "id": "9bf3dac6-8cd5-4c23-b4c5-5196267102a6",
      "metadata": {
        "id": "9bf3dac6-8cd5-4c23-b4c5-5196267102a6"
      },
      "source": [
        "Let's build the same plot for the autoencoder to demonstrate the difference between the latent spaces produded. Since they encoding is not constrained to meet any sort of distribution, we'll use regular grid sampling across the bounding box of encoded validation samples."
      ]
    },
    {
      "cell_type": "code",
      "execution_count": null,
      "id": "a7902b5d-f3a1-4c58-b187-a3fb47fd3668",
      "metadata": {
        "colab": {
          "base_uri": "https://localhost:8080/",
          "height": 54
        },
        "id": "a7902b5d-f3a1-4c58-b187-a3fb47fd3668",
        "outputId": "c4eebbd0-7998-4781-f8c9-0a2ef18c9306"
      },
      "outputs": [],
      "source": [
        "# get bounding box\n",
        "ae_encodings, _ = get_all_encodings(ae_model, validation_dataloader)\n",
        "x_min, y_min = np.min(ae_encodings, axis=0)\n",
        "x_max, y_max = np.max(ae_encodings, axis=0)\n",
        "\n",
        "\n",
        "n = 20  # number of images per rows columns\n",
        "\n",
        "# grid sampling in latent space\n",
        "z1 = np.linspace(0, 1, n) * (x_max - x_min) + x_min\n",
        "z2 = np.linspace(0, 1, n) * (y_max - y_min) + y_min\n",
        "Z1, Z2 = np.meshgrid(z1, z2)\n",
        "Z = np.vstack([Z1.flatten(), Z2.flatten()]).T\n",
        "\n",
        "# decode samples\n",
        "ims = ae_model.decoder(torch.tensor(Z).float().to(device).unsqueeze(0)).detach().cpu()\n",
        "\n",
        "# plot\n",
        "fig, axes = plt.subplots(n, n, figsize=(7, 7))\n",
        "fig.subplots_adjust(hspace=0.05, wspace=0.05)\n",
        "count = 0\n",
        "for k in range(0, ims.shape[0]):\n",
        "    i, j = int(count / n), int(count % n)\n",
        "    axes[i, j].imshow(ims[k, 0, :, :])\n",
        "    axes[i, j].axis(\"off\")\n",
        "    count += 1\n",
        "plt.show()"
      ]
    },
    {
      "cell_type": "markdown",
      "id": "ff4ded48-0568-43b4-b8a2-b835f33ab230",
      "metadata": {
        "id": "ff4ded48-0568-43b4-b8a2-b835f33ab230"
      },
      "source": [
        "Clearly, the latent space is not as \"nice\" as the one produced by the VAE, i.e. most of the space contains little variations and/or garbage."
      ]
    }
  ],
  "metadata": {
    "accelerator": "GPU",
    "colab": {
      "provenance": []
    },
    "kernelspec": {
      "display_name": "Python 3 (ipykernel)",
      "language": "python",
      "name": "python3"
    },
    "language_info": {
      "codemirror_mode": {
        "name": "ipython",
        "version": 3
      },
      "file_extension": ".py",
      "mimetype": "text/x-python",
      "name": "python",
      "nbconvert_exporter": "python",
      "pygments_lexer": "ipython3",
      "version": "3.11.5"
    },
    "widgets": {
      "application/vnd.jupyter.widget-state+json": {
        "00c79321b1b8498bbb32d5990a0549f0": {
          "model_module": "@jupyter-widgets/base",
          "model_module_version": "1.2.0",
          "model_name": "LayoutModel",
          "state": {
            "_model_module": "@jupyter-widgets/base",
            "_model_module_version": "1.2.0",
            "_model_name": "LayoutModel",
            "_view_count": null,
            "_view_module": "@jupyter-widgets/base",
            "_view_module_version": "1.2.0",
            "_view_name": "LayoutView",
            "align_content": null,
            "align_items": null,
            "align_self": null,
            "border": null,
            "bottom": null,
            "display": null,
            "flex": null,
            "flex_flow": null,
            "grid_area": null,
            "grid_auto_columns": null,
            "grid_auto_flow": null,
            "grid_auto_rows": null,
            "grid_column": null,
            "grid_gap": null,
            "grid_row": null,
            "grid_template_areas": null,
            "grid_template_columns": null,
            "grid_template_rows": null,
            "height": null,
            "justify_content": null,
            "justify_items": null,
            "left": null,
            "margin": null,
            "max_height": null,
            "max_width": null,
            "min_height": null,
            "min_width": null,
            "object_fit": null,
            "object_position": null,
            "order": null,
            "overflow": null,
            "overflow_x": null,
            "overflow_y": null,
            "padding": null,
            "right": null,
            "top": null,
            "visibility": null,
            "width": null
          }
        },
        "1cf4dd65a1634d19a0995ae9f48ade68": {
          "model_module": "@jupyter-widgets/controls",
          "model_module_version": "1.5.0",
          "model_name": "FloatProgressModel",
          "state": {
            "_dom_classes": [],
            "_model_module": "@jupyter-widgets/controls",
            "_model_module_version": "1.5.0",
            "_model_name": "FloatProgressModel",
            "_view_count": null,
            "_view_module": "@jupyter-widgets/controls",
            "_view_module_version": "1.5.0",
            "_view_name": "ProgressView",
            "bar_style": "success",
            "description": "",
            "description_tooltip": null,
            "layout": "IPY_MODEL_00c79321b1b8498bbb32d5990a0549f0",
            "max": 20,
            "min": 0,
            "orientation": "horizontal",
            "style": "IPY_MODEL_54dce2fa77ef4a6da5440107e8a44ce2",
            "value": 20
          }
        },
        "293ac590c7ae4c4c983f2ae84a7b2e0b": {
          "model_module": "@jupyter-widgets/controls",
          "model_module_version": "1.5.0",
          "model_name": "HTMLModel",
          "state": {
            "_dom_classes": [],
            "_model_module": "@jupyter-widgets/controls",
            "_model_module_version": "1.5.0",
            "_model_name": "HTMLModel",
            "_view_count": null,
            "_view_module": "@jupyter-widgets/controls",
            "_view_module_version": "1.5.0",
            "_view_name": "HTMLView",
            "description": "",
            "description_tooltip": null,
            "layout": "IPY_MODEL_932348d7172542868874f05f96da5ea5",
            "placeholder": "​",
            "style": "IPY_MODEL_fa41adc6270b4f32a4749f7709d2a0bb",
            "value": " 20/20 [05:28&lt;00:00, 17.31s/it]"
          }
        },
        "383e882106f747c49d8963a7b3998027": {
          "model_module": "@jupyter-widgets/base",
          "model_module_version": "1.2.0",
          "model_name": "LayoutModel",
          "state": {
            "_model_module": "@jupyter-widgets/base",
            "_model_module_version": "1.2.0",
            "_model_name": "LayoutModel",
            "_view_count": null,
            "_view_module": "@jupyter-widgets/base",
            "_view_module_version": "1.2.0",
            "_view_name": "LayoutView",
            "align_content": null,
            "align_items": null,
            "align_self": null,
            "border": null,
            "bottom": null,
            "display": null,
            "flex": null,
            "flex_flow": null,
            "grid_area": null,
            "grid_auto_columns": null,
            "grid_auto_flow": null,
            "grid_auto_rows": null,
            "grid_column": null,
            "grid_gap": null,
            "grid_row": null,
            "grid_template_areas": null,
            "grid_template_columns": null,
            "grid_template_rows": null,
            "height": null,
            "justify_content": null,
            "justify_items": null,
            "left": null,
            "margin": null,
            "max_height": null,
            "max_width": null,
            "min_height": null,
            "min_width": null,
            "object_fit": null,
            "object_position": null,
            "order": null,
            "overflow": null,
            "overflow_x": null,
            "overflow_y": null,
            "padding": null,
            "right": null,
            "top": null,
            "visibility": null,
            "width": null
          }
        },
        "388e23336c2c4210b05993d9468d8c24": {
          "model_module": "@jupyter-widgets/controls",
          "model_module_version": "1.5.0",
          "model_name": "DescriptionStyleModel",
          "state": {
            "_model_module": "@jupyter-widgets/controls",
            "_model_module_version": "1.5.0",
            "_model_name": "DescriptionStyleModel",
            "_view_count": null,
            "_view_module": "@jupyter-widgets/base",
            "_view_module_version": "1.2.0",
            "_view_name": "StyleView",
            "description_width": ""
          }
        },
        "3d9839eaa1e44a18b373d893c98d8221": {
          "model_module": "@jupyter-widgets/controls",
          "model_module_version": "1.5.0",
          "model_name": "ProgressStyleModel",
          "state": {
            "_model_module": "@jupyter-widgets/controls",
            "_model_module_version": "1.5.0",
            "_model_name": "ProgressStyleModel",
            "_view_count": null,
            "_view_module": "@jupyter-widgets/base",
            "_view_module_version": "1.2.0",
            "_view_name": "StyleView",
            "bar_color": null,
            "description_width": ""
          }
        },
        "4f66ef7661ff457aa710d5d2851dad6a": {
          "model_module": "@jupyter-widgets/base",
          "model_module_version": "1.2.0",
          "model_name": "LayoutModel",
          "state": {
            "_model_module": "@jupyter-widgets/base",
            "_model_module_version": "1.2.0",
            "_model_name": "LayoutModel",
            "_view_count": null,
            "_view_module": "@jupyter-widgets/base",
            "_view_module_version": "1.2.0",
            "_view_name": "LayoutView",
            "align_content": null,
            "align_items": null,
            "align_self": null,
            "border": null,
            "bottom": null,
            "display": null,
            "flex": null,
            "flex_flow": null,
            "grid_area": null,
            "grid_auto_columns": null,
            "grid_auto_flow": null,
            "grid_auto_rows": null,
            "grid_column": null,
            "grid_gap": null,
            "grid_row": null,
            "grid_template_areas": null,
            "grid_template_columns": null,
            "grid_template_rows": null,
            "height": null,
            "justify_content": null,
            "justify_items": null,
            "left": null,
            "margin": null,
            "max_height": null,
            "max_width": null,
            "min_height": null,
            "min_width": null,
            "object_fit": null,
            "object_position": null,
            "order": null,
            "overflow": null,
            "overflow_x": null,
            "overflow_y": null,
            "padding": null,
            "right": null,
            "top": null,
            "visibility": null,
            "width": null
          }
        },
        "54dce2fa77ef4a6da5440107e8a44ce2": {
          "model_module": "@jupyter-widgets/controls",
          "model_module_version": "1.5.0",
          "model_name": "ProgressStyleModel",
          "state": {
            "_model_module": "@jupyter-widgets/controls",
            "_model_module_version": "1.5.0",
            "_model_name": "ProgressStyleModel",
            "_view_count": null,
            "_view_module": "@jupyter-widgets/base",
            "_view_module_version": "1.2.0",
            "_view_name": "StyleView",
            "bar_color": null,
            "description_width": ""
          }
        },
        "664949285a69435e8ee81a22eabd1929": {
          "model_module": "@jupyter-widgets/controls",
          "model_module_version": "1.5.0",
          "model_name": "HBoxModel",
          "state": {
            "_dom_classes": [],
            "_model_module": "@jupyter-widgets/controls",
            "_model_module_version": "1.5.0",
            "_model_name": "HBoxModel",
            "_view_count": null,
            "_view_module": "@jupyter-widgets/controls",
            "_view_module_version": "1.5.0",
            "_view_name": "HBoxView",
            "box_style": "",
            "children": [
              "IPY_MODEL_c9dbcb3adf6a49c6a81419782e2f425a",
              "IPY_MODEL_1cf4dd65a1634d19a0995ae9f48ade68",
              "IPY_MODEL_bf6d2e5da0134f0d84eca2976e0c01b6"
            ],
            "layout": "IPY_MODEL_90b9b815b18e4e99957e970f44502440"
          }
        },
        "8bb5e8fdc18048b78de2fa49e53afad7": {
          "model_module": "@jupyter-widgets/base",
          "model_module_version": "1.2.0",
          "model_name": "LayoutModel",
          "state": {
            "_model_module": "@jupyter-widgets/base",
            "_model_module_version": "1.2.0",
            "_model_name": "LayoutModel",
            "_view_count": null,
            "_view_module": "@jupyter-widgets/base",
            "_view_module_version": "1.2.0",
            "_view_name": "LayoutView",
            "align_content": null,
            "align_items": null,
            "align_self": null,
            "border": null,
            "bottom": null,
            "display": null,
            "flex": null,
            "flex_flow": null,
            "grid_area": null,
            "grid_auto_columns": null,
            "grid_auto_flow": null,
            "grid_auto_rows": null,
            "grid_column": null,
            "grid_gap": null,
            "grid_row": null,
            "grid_template_areas": null,
            "grid_template_columns": null,
            "grid_template_rows": null,
            "height": null,
            "justify_content": null,
            "justify_items": null,
            "left": null,
            "margin": null,
            "max_height": null,
            "max_width": null,
            "min_height": null,
            "min_width": null,
            "object_fit": null,
            "object_position": null,
            "order": null,
            "overflow": null,
            "overflow_x": null,
            "overflow_y": null,
            "padding": null,
            "right": null,
            "top": null,
            "visibility": null,
            "width": null
          }
        },
        "90b9b815b18e4e99957e970f44502440": {
          "model_module": "@jupyter-widgets/base",
          "model_module_version": "1.2.0",
          "model_name": "LayoutModel",
          "state": {
            "_model_module": "@jupyter-widgets/base",
            "_model_module_version": "1.2.0",
            "_model_name": "LayoutModel",
            "_view_count": null,
            "_view_module": "@jupyter-widgets/base",
            "_view_module_version": "1.2.0",
            "_view_name": "LayoutView",
            "align_content": null,
            "align_items": null,
            "align_self": null,
            "border": null,
            "bottom": null,
            "display": null,
            "flex": null,
            "flex_flow": null,
            "grid_area": null,
            "grid_auto_columns": null,
            "grid_auto_flow": null,
            "grid_auto_rows": null,
            "grid_column": null,
            "grid_gap": null,
            "grid_row": null,
            "grid_template_areas": null,
            "grid_template_columns": null,
            "grid_template_rows": null,
            "height": null,
            "justify_content": null,
            "justify_items": null,
            "left": null,
            "margin": null,
            "max_height": null,
            "max_width": null,
            "min_height": null,
            "min_width": null,
            "object_fit": null,
            "object_position": null,
            "order": null,
            "overflow": null,
            "overflow_x": null,
            "overflow_y": null,
            "padding": null,
            "right": null,
            "top": null,
            "visibility": null,
            "width": null
          }
        },
        "92cb109b42c54c3e8774407e2fc71e72": {
          "model_module": "@jupyter-widgets/controls",
          "model_module_version": "1.5.0",
          "model_name": "DescriptionStyleModel",
          "state": {
            "_model_module": "@jupyter-widgets/controls",
            "_model_module_version": "1.5.0",
            "_model_name": "DescriptionStyleModel",
            "_view_count": null,
            "_view_module": "@jupyter-widgets/base",
            "_view_module_version": "1.2.0",
            "_view_name": "StyleView",
            "description_width": ""
          }
        },
        "932348d7172542868874f05f96da5ea5": {
          "model_module": "@jupyter-widgets/base",
          "model_module_version": "1.2.0",
          "model_name": "LayoutModel",
          "state": {
            "_model_module": "@jupyter-widgets/base",
            "_model_module_version": "1.2.0",
            "_model_name": "LayoutModel",
            "_view_count": null,
            "_view_module": "@jupyter-widgets/base",
            "_view_module_version": "1.2.0",
            "_view_name": "LayoutView",
            "align_content": null,
            "align_items": null,
            "align_self": null,
            "border": null,
            "bottom": null,
            "display": null,
            "flex": null,
            "flex_flow": null,
            "grid_area": null,
            "grid_auto_columns": null,
            "grid_auto_flow": null,
            "grid_auto_rows": null,
            "grid_column": null,
            "grid_gap": null,
            "grid_row": null,
            "grid_template_areas": null,
            "grid_template_columns": null,
            "grid_template_rows": null,
            "height": null,
            "justify_content": null,
            "justify_items": null,
            "left": null,
            "margin": null,
            "max_height": null,
            "max_width": null,
            "min_height": null,
            "min_width": null,
            "object_fit": null,
            "object_position": null,
            "order": null,
            "overflow": null,
            "overflow_x": null,
            "overflow_y": null,
            "padding": null,
            "right": null,
            "top": null,
            "visibility": null,
            "width": null
          }
        },
        "a73fd0bde28d407da73776bbb407fc81": {
          "model_module": "@jupyter-widgets/controls",
          "model_module_version": "1.5.0",
          "model_name": "DescriptionStyleModel",
          "state": {
            "_model_module": "@jupyter-widgets/controls",
            "_model_module_version": "1.5.0",
            "_model_name": "DescriptionStyleModel",
            "_view_count": null,
            "_view_module": "@jupyter-widgets/base",
            "_view_module_version": "1.2.0",
            "_view_name": "StyleView",
            "description_width": ""
          }
        },
        "b0f69ed946a14fd19b2d02026fd19742": {
          "model_module": "@jupyter-widgets/base",
          "model_module_version": "1.2.0",
          "model_name": "LayoutModel",
          "state": {
            "_model_module": "@jupyter-widgets/base",
            "_model_module_version": "1.2.0",
            "_model_name": "LayoutModel",
            "_view_count": null,
            "_view_module": "@jupyter-widgets/base",
            "_view_module_version": "1.2.0",
            "_view_name": "LayoutView",
            "align_content": null,
            "align_items": null,
            "align_self": null,
            "border": null,
            "bottom": null,
            "display": null,
            "flex": null,
            "flex_flow": null,
            "grid_area": null,
            "grid_auto_columns": null,
            "grid_auto_flow": null,
            "grid_auto_rows": null,
            "grid_column": null,
            "grid_gap": null,
            "grid_row": null,
            "grid_template_areas": null,
            "grid_template_columns": null,
            "grid_template_rows": null,
            "height": null,
            "justify_content": null,
            "justify_items": null,
            "left": null,
            "margin": null,
            "max_height": null,
            "max_width": null,
            "min_height": null,
            "min_width": null,
            "object_fit": null,
            "object_position": null,
            "order": null,
            "overflow": null,
            "overflow_x": null,
            "overflow_y": null,
            "padding": null,
            "right": null,
            "top": null,
            "visibility": null,
            "width": null
          }
        },
        "b19e99107c6146deb9a0dc10be5e6737": {
          "model_module": "@jupyter-widgets/controls",
          "model_module_version": "1.5.0",
          "model_name": "HTMLModel",
          "state": {
            "_dom_classes": [],
            "_model_module": "@jupyter-widgets/controls",
            "_model_module_version": "1.5.0",
            "_model_name": "HTMLModel",
            "_view_count": null,
            "_view_module": "@jupyter-widgets/controls",
            "_view_module_version": "1.5.0",
            "_view_name": "HTMLView",
            "description": "",
            "description_tooltip": null,
            "layout": "IPY_MODEL_383e882106f747c49d8963a7b3998027",
            "placeholder": "​",
            "style": "IPY_MODEL_a73fd0bde28d407da73776bbb407fc81",
            "value": "100%"
          }
        },
        "b6133289a216451e9780fb1d27ba03c8": {
          "model_module": "@jupyter-widgets/controls",
          "model_module_version": "1.5.0",
          "model_name": "HBoxModel",
          "state": {
            "_dom_classes": [],
            "_model_module": "@jupyter-widgets/controls",
            "_model_module_version": "1.5.0",
            "_model_name": "HBoxModel",
            "_view_count": null,
            "_view_module": "@jupyter-widgets/controls",
            "_view_module_version": "1.5.0",
            "_view_name": "HBoxView",
            "box_style": "",
            "children": [
              "IPY_MODEL_b19e99107c6146deb9a0dc10be5e6737",
              "IPY_MODEL_fb06cdd7f4b04f9086ff41cf4e162c94",
              "IPY_MODEL_293ac590c7ae4c4c983f2ae84a7b2e0b"
            ],
            "layout": "IPY_MODEL_b0f69ed946a14fd19b2d02026fd19742"
          }
        },
        "bf6d2e5da0134f0d84eca2976e0c01b6": {
          "model_module": "@jupyter-widgets/controls",
          "model_module_version": "1.5.0",
          "model_name": "HTMLModel",
          "state": {
            "_dom_classes": [],
            "_model_module": "@jupyter-widgets/controls",
            "_model_module_version": "1.5.0",
            "_model_name": "HTMLModel",
            "_view_count": null,
            "_view_module": "@jupyter-widgets/controls",
            "_view_module_version": "1.5.0",
            "_view_name": "HTMLView",
            "description": "",
            "description_tooltip": null,
            "layout": "IPY_MODEL_fa002478f4e94264bbdef5694022bd3d",
            "placeholder": "​",
            "style": "IPY_MODEL_92cb109b42c54c3e8774407e2fc71e72",
            "value": " 20/20 [05:56&lt;00:00, 18.20s/it]"
          }
        },
        "c9dbcb3adf6a49c6a81419782e2f425a": {
          "model_module": "@jupyter-widgets/controls",
          "model_module_version": "1.5.0",
          "model_name": "HTMLModel",
          "state": {
            "_dom_classes": [],
            "_model_module": "@jupyter-widgets/controls",
            "_model_module_version": "1.5.0",
            "_model_name": "HTMLModel",
            "_view_count": null,
            "_view_module": "@jupyter-widgets/controls",
            "_view_module_version": "1.5.0",
            "_view_name": "HTMLView",
            "description": "",
            "description_tooltip": null,
            "layout": "IPY_MODEL_8bb5e8fdc18048b78de2fa49e53afad7",
            "placeholder": "​",
            "style": "IPY_MODEL_388e23336c2c4210b05993d9468d8c24",
            "value": "100%"
          }
        },
        "fa002478f4e94264bbdef5694022bd3d": {
          "model_module": "@jupyter-widgets/base",
          "model_module_version": "1.2.0",
          "model_name": "LayoutModel",
          "state": {
            "_model_module": "@jupyter-widgets/base",
            "_model_module_version": "1.2.0",
            "_model_name": "LayoutModel",
            "_view_count": null,
            "_view_module": "@jupyter-widgets/base",
            "_view_module_version": "1.2.0",
            "_view_name": "LayoutView",
            "align_content": null,
            "align_items": null,
            "align_self": null,
            "border": null,
            "bottom": null,
            "display": null,
            "flex": null,
            "flex_flow": null,
            "grid_area": null,
            "grid_auto_columns": null,
            "grid_auto_flow": null,
            "grid_auto_rows": null,
            "grid_column": null,
            "grid_gap": null,
            "grid_row": null,
            "grid_template_areas": null,
            "grid_template_columns": null,
            "grid_template_rows": null,
            "height": null,
            "justify_content": null,
            "justify_items": null,
            "left": null,
            "margin": null,
            "max_height": null,
            "max_width": null,
            "min_height": null,
            "min_width": null,
            "object_fit": null,
            "object_position": null,
            "order": null,
            "overflow": null,
            "overflow_x": null,
            "overflow_y": null,
            "padding": null,
            "right": null,
            "top": null,
            "visibility": null,
            "width": null
          }
        },
        "fa41adc6270b4f32a4749f7709d2a0bb": {
          "model_module": "@jupyter-widgets/controls",
          "model_module_version": "1.5.0",
          "model_name": "DescriptionStyleModel",
          "state": {
            "_model_module": "@jupyter-widgets/controls",
            "_model_module_version": "1.5.0",
            "_model_name": "DescriptionStyleModel",
            "_view_count": null,
            "_view_module": "@jupyter-widgets/base",
            "_view_module_version": "1.2.0",
            "_view_name": "StyleView",
            "description_width": ""
          }
        },
        "fb06cdd7f4b04f9086ff41cf4e162c94": {
          "model_module": "@jupyter-widgets/controls",
          "model_module_version": "1.5.0",
          "model_name": "FloatProgressModel",
          "state": {
            "_dom_classes": [],
            "_model_module": "@jupyter-widgets/controls",
            "_model_module_version": "1.5.0",
            "_model_name": "FloatProgressModel",
            "_view_count": null,
            "_view_module": "@jupyter-widgets/controls",
            "_view_module_version": "1.5.0",
            "_view_name": "ProgressView",
            "bar_style": "success",
            "description": "",
            "description_tooltip": null,
            "layout": "IPY_MODEL_4f66ef7661ff457aa710d5d2851dad6a",
            "max": 20,
            "min": 0,
            "orientation": "horizontal",
            "style": "IPY_MODEL_3d9839eaa1e44a18b373d893c98d8221",
            "value": 20
          }
        }
      }
    }
  },
  "nbformat": 4,
  "nbformat_minor": 5
}
